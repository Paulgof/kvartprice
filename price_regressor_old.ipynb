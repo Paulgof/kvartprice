{
 "cells": [
  {
   "cell_type": "code",
   "execution_count": 1,
   "metadata": {
    "id": "ndc3O-CQP78O"
   },
   "outputs": [],
   "source": [
    "import pandas as pd\n",
    "import matplotlib.pyplot as plt\n",
    "import seaborn as sns\n",
    "import numpy as np\n",
    "from scipy.stats import norm\n",
    "from sklearn.preprocessing import StandardScaler\n",
    "from scipy import stats\n",
    "import warnings\n",
    "warnings.filterwarnings('ignore')\n",
    "%matplotlib inline"
   ]
  },
  {
   "cell_type": "code",
   "execution_count": 58,
   "metadata": {
    "id": "9d4I9nulP78S"
   },
   "outputs": [],
   "source": [
    "pd_flats = pd.read_csv('shuffled_flats_data.csv', sep=';', header=0)"
   ]
  },
  {
   "cell_type": "code",
   "execution_count": 59,
   "metadata": {
    "id": "-gpdyArcP78U",
    "outputId": "eb946a79-942c-4518-eef5-a9ec248c7ca6"
   },
   "outputs": [
    {
     "data": {
      "text/html": [
       "<div>\n",
       "<style scoped>\n",
       "    .dataframe tbody tr th:only-of-type {\n",
       "        vertical-align: middle;\n",
       "    }\n",
       "\n",
       "    .dataframe tbody tr th {\n",
       "        vertical-align: top;\n",
       "    }\n",
       "\n",
       "    .dataframe thead th {\n",
       "        text-align: right;\n",
       "    }\n",
       "</style>\n",
       "<table border=\"1\" class=\"dataframe\">\n",
       "  <thead>\n",
       "    <tr style=\"text-align: right;\">\n",
       "      <th></th>\n",
       "      <th>ID</th>\n",
       "      <th>Link</th>\n",
       "      <th>Price</th>\n",
       "      <th>Rooms</th>\n",
       "      <th>Views</th>\n",
       "      <th>Square</th>\n",
       "      <th>Live Square</th>\n",
       "      <th>Kitchen</th>\n",
       "      <th>Floor</th>\n",
       "      <th>Total Floors</th>\n",
       "      <th>...</th>\n",
       "      <th>Toilet</th>\n",
       "      <th>Balcony</th>\n",
       "      <th>Repair</th>\n",
       "      <th>Window View</th>\n",
       "      <th>Ceiling</th>\n",
       "      <th>House Type</th>\n",
       "      <th>House Year</th>\n",
       "      <th>Lifts</th>\n",
       "      <th>Parking</th>\n",
       "      <th>Gas</th>\n",
       "    </tr>\n",
       "  </thead>\n",
       "  <tbody>\n",
       "    <tr>\n",
       "      <td>0</td>\n",
       "      <td>246884126</td>\n",
       "      <td>https://krasnodar.cian.ru/sale/flat/246884126/</td>\n",
       "      <td>6500000</td>\n",
       "      <td>1</td>\n",
       "      <td>191</td>\n",
       "      <td>64.0</td>\n",
       "      <td>30.0</td>\n",
       "      <td>14.0</td>\n",
       "      <td>12</td>\n",
       "      <td>16</td>\n",
       "      <td>...</td>\n",
       "      <td>1 совмещенный</td>\n",
       "      <td>1 лоджия</td>\n",
       "      <td>Дизайнерский</td>\n",
       "      <td>NaN</td>\n",
       "      <td>NaN</td>\n",
       "      <td>Кирпичный</td>\n",
       "      <td>NaN</td>\n",
       "      <td>1 пасс., 1 груз.</td>\n",
       "      <td>NaN</td>\n",
       "      <td>NaN</td>\n",
       "    </tr>\n",
       "    <tr>\n",
       "      <td>1</td>\n",
       "      <td>255563229</td>\n",
       "      <td>https://krasnodar.cian.ru/sale/flat/255563229/</td>\n",
       "      <td>2500000</td>\n",
       "      <td>1</td>\n",
       "      <td>6</td>\n",
       "      <td>33.0</td>\n",
       "      <td>16.6</td>\n",
       "      <td>8.2</td>\n",
       "      <td>3</td>\n",
       "      <td>8</td>\n",
       "      <td>...</td>\n",
       "      <td>1 совмещенный</td>\n",
       "      <td>1 лоджия</td>\n",
       "      <td>Евроремонт</td>\n",
       "      <td>На улицу</td>\n",
       "      <td>2,75 м</td>\n",
       "      <td>Кирпичный</td>\n",
       "      <td>2020.0</td>\n",
       "      <td>NaN</td>\n",
       "      <td>NaN</td>\n",
       "      <td>NaN</td>\n",
       "    </tr>\n",
       "    <tr>\n",
       "      <td>2</td>\n",
       "      <td>256823292</td>\n",
       "      <td>https://krasnodar.cian.ru/sale/flat/256823292/</td>\n",
       "      <td>3500000</td>\n",
       "      <td>1</td>\n",
       "      <td>81</td>\n",
       "      <td>41.0</td>\n",
       "      <td>NaN</td>\n",
       "      <td>10.4</td>\n",
       "      <td>16</td>\n",
       "      <td>18</td>\n",
       "      <td>...</td>\n",
       "      <td>1 совмещенный</td>\n",
       "      <td>1 лоджия</td>\n",
       "      <td>Евроремонт</td>\n",
       "      <td>На улицу</td>\n",
       "      <td>NaN</td>\n",
       "      <td>Кирпичный</td>\n",
       "      <td>2017.0</td>\n",
       "      <td>2 пасс.</td>\n",
       "      <td>NaN</td>\n",
       "      <td>NaN</td>\n",
       "    </tr>\n",
       "    <tr>\n",
       "      <td>3</td>\n",
       "      <td>256729516</td>\n",
       "      <td>https://krasnodar.cian.ru/sale/flat/256729516/</td>\n",
       "      <td>2575000</td>\n",
       "      <td>1</td>\n",
       "      <td>36</td>\n",
       "      <td>30.1</td>\n",
       "      <td>16.9</td>\n",
       "      <td>6.4</td>\n",
       "      <td>5</td>\n",
       "      <td>5</td>\n",
       "      <td>...</td>\n",
       "      <td>1 совмещенный</td>\n",
       "      <td>1 балкон</td>\n",
       "      <td>Евроремонт</td>\n",
       "      <td>На улицу</td>\n",
       "      <td>2,5 м</td>\n",
       "      <td>NaN</td>\n",
       "      <td>1973.0</td>\n",
       "      <td>NaN</td>\n",
       "      <td>NaN</td>\n",
       "      <td>Автономное</td>\n",
       "    </tr>\n",
       "    <tr>\n",
       "      <td>4</td>\n",
       "      <td>253172895</td>\n",
       "      <td>https://krasnodar.cian.ru/sale/flat/253172895/</td>\n",
       "      <td>11900000</td>\n",
       "      <td>3</td>\n",
       "      <td>54</td>\n",
       "      <td>118.6</td>\n",
       "      <td>66.3</td>\n",
       "      <td>17.2</td>\n",
       "      <td>10</td>\n",
       "      <td>18</td>\n",
       "      <td>...</td>\n",
       "      <td>NaN</td>\n",
       "      <td>NaN</td>\n",
       "      <td>Без ремонта</td>\n",
       "      <td>NaN</td>\n",
       "      <td>2,9 м</td>\n",
       "      <td>Монолитно кирпичный</td>\n",
       "      <td>2020.0</td>\n",
       "      <td>1 пасс., 1 груз.</td>\n",
       "      <td>Наземная</td>\n",
       "      <td>NaN</td>\n",
       "    </tr>\n",
       "    <tr>\n",
       "      <td>...</td>\n",
       "      <td>...</td>\n",
       "      <td>...</td>\n",
       "      <td>...</td>\n",
       "      <td>...</td>\n",
       "      <td>...</td>\n",
       "      <td>...</td>\n",
       "      <td>...</td>\n",
       "      <td>...</td>\n",
       "      <td>...</td>\n",
       "      <td>...</td>\n",
       "      <td>...</td>\n",
       "      <td>...</td>\n",
       "      <td>...</td>\n",
       "      <td>...</td>\n",
       "      <td>...</td>\n",
       "      <td>...</td>\n",
       "      <td>...</td>\n",
       "      <td>...</td>\n",
       "      <td>...</td>\n",
       "      <td>...</td>\n",
       "      <td>...</td>\n",
       "    </tr>\n",
       "    <tr>\n",
       "      <td>5478</td>\n",
       "      <td>256542238</td>\n",
       "      <td>https://krasnodar.cian.ru/sale/flat/256542238/</td>\n",
       "      <td>5800000</td>\n",
       "      <td>3</td>\n",
       "      <td>33</td>\n",
       "      <td>68.3</td>\n",
       "      <td>41.8</td>\n",
       "      <td>7.7</td>\n",
       "      <td>8</td>\n",
       "      <td>12</td>\n",
       "      <td>...</td>\n",
       "      <td>1 раздельный</td>\n",
       "      <td>1 балкон, 1 лоджия</td>\n",
       "      <td>Без ремонта</td>\n",
       "      <td>Во двор</td>\n",
       "      <td>2,5 м</td>\n",
       "      <td>Панельный</td>\n",
       "      <td>1988.0</td>\n",
       "      <td>Есть</td>\n",
       "      <td>NaN</td>\n",
       "      <td>Центральное</td>\n",
       "    </tr>\n",
       "    <tr>\n",
       "      <td>5479</td>\n",
       "      <td>255196700</td>\n",
       "      <td>https://krasnodar.cian.ru/sale/flat/255196700/</td>\n",
       "      <td>1550000</td>\n",
       "      <td>0</td>\n",
       "      <td>19</td>\n",
       "      <td>20.0</td>\n",
       "      <td>8.0</td>\n",
       "      <td>4.0</td>\n",
       "      <td>2</td>\n",
       "      <td>5</td>\n",
       "      <td>...</td>\n",
       "      <td>1 совмещенный</td>\n",
       "      <td>NaN</td>\n",
       "      <td>Без ремонта</td>\n",
       "      <td>На улицу</td>\n",
       "      <td>2,8 м</td>\n",
       "      <td>Монолитный</td>\n",
       "      <td>2021.0</td>\n",
       "      <td>Есть</td>\n",
       "      <td>Наземная</td>\n",
       "      <td>NaN</td>\n",
       "    </tr>\n",
       "    <tr>\n",
       "      <td>5480</td>\n",
       "      <td>257013767</td>\n",
       "      <td>https://krasnodar.cian.ru/sale/flat/257013767/</td>\n",
       "      <td>1700000</td>\n",
       "      <td>0</td>\n",
       "      <td>2</td>\n",
       "      <td>27.2</td>\n",
       "      <td>18.0</td>\n",
       "      <td>4.0</td>\n",
       "      <td>2</td>\n",
       "      <td>5</td>\n",
       "      <td>...</td>\n",
       "      <td>1 совмещенный</td>\n",
       "      <td>NaN</td>\n",
       "      <td>Косметический</td>\n",
       "      <td>Во двор</td>\n",
       "      <td>NaN</td>\n",
       "      <td>Кирпичный</td>\n",
       "      <td>2020.0</td>\n",
       "      <td>NaN</td>\n",
       "      <td>Наземная</td>\n",
       "      <td>NaN</td>\n",
       "    </tr>\n",
       "    <tr>\n",
       "      <td>5481</td>\n",
       "      <td>256616609</td>\n",
       "      <td>https://krasnodar.cian.ru/sale/flat/256616609/</td>\n",
       "      <td>2270000</td>\n",
       "      <td>0</td>\n",
       "      <td>41</td>\n",
       "      <td>25.0</td>\n",
       "      <td>NaN</td>\n",
       "      <td>NaN</td>\n",
       "      <td>7</td>\n",
       "      <td>9</td>\n",
       "      <td>...</td>\n",
       "      <td>1 совмещенный</td>\n",
       "      <td>1 балкон</td>\n",
       "      <td>Дизайнерский</td>\n",
       "      <td>На улицу и двор</td>\n",
       "      <td>NaN</td>\n",
       "      <td>Монолитный</td>\n",
       "      <td>2017.0</td>\n",
       "      <td>Есть</td>\n",
       "      <td>NaN</td>\n",
       "      <td>NaN</td>\n",
       "    </tr>\n",
       "    <tr>\n",
       "      <td>5482</td>\n",
       "      <td>255630403</td>\n",
       "      <td>https://krasnodar.cian.ru/sale/flat/255630403/</td>\n",
       "      <td>1600000</td>\n",
       "      <td>1</td>\n",
       "      <td>2</td>\n",
       "      <td>21.0</td>\n",
       "      <td>15.0</td>\n",
       "      <td>NaN</td>\n",
       "      <td>1</td>\n",
       "      <td>5</td>\n",
       "      <td>...</td>\n",
       "      <td>1 совмещенный</td>\n",
       "      <td>NaN</td>\n",
       "      <td>Дизайнерский</td>\n",
       "      <td>На улицу</td>\n",
       "      <td>NaN</td>\n",
       "      <td>Монолитно кирпичный</td>\n",
       "      <td>2020.0</td>\n",
       "      <td>Есть</td>\n",
       "      <td>NaN</td>\n",
       "      <td>NaN</td>\n",
       "    </tr>\n",
       "  </tbody>\n",
       "</table>\n",
       "<p>5483 rows × 27 columns</p>\n",
       "</div>"
      ],
      "text/plain": [
       "             ID                                            Link     Price  \\\n",
       "0     246884126  https://krasnodar.cian.ru/sale/flat/246884126/   6500000   \n",
       "1     255563229  https://krasnodar.cian.ru/sale/flat/255563229/   2500000   \n",
       "2     256823292  https://krasnodar.cian.ru/sale/flat/256823292/   3500000   \n",
       "3     256729516  https://krasnodar.cian.ru/sale/flat/256729516/   2575000   \n",
       "4     253172895  https://krasnodar.cian.ru/sale/flat/253172895/  11900000   \n",
       "...         ...                                             ...       ...   \n",
       "5478  256542238  https://krasnodar.cian.ru/sale/flat/256542238/   5800000   \n",
       "5479  255196700  https://krasnodar.cian.ru/sale/flat/255196700/   1550000   \n",
       "5480  257013767  https://krasnodar.cian.ru/sale/flat/257013767/   1700000   \n",
       "5481  256616609  https://krasnodar.cian.ru/sale/flat/256616609/   2270000   \n",
       "5482  255630403  https://krasnodar.cian.ru/sale/flat/255630403/   1600000   \n",
       "\n",
       "      Rooms  Views  Square  Live Square  Kitchen  Floor  Total Floors  ...  \\\n",
       "0         1    191    64.0         30.0     14.0     12            16  ...   \n",
       "1         1      6    33.0         16.6      8.2      3             8  ...   \n",
       "2         1     81    41.0          NaN     10.4     16            18  ...   \n",
       "3         1     36    30.1         16.9      6.4      5             5  ...   \n",
       "4         3     54   118.6         66.3     17.2     10            18  ...   \n",
       "...     ...    ...     ...          ...      ...    ...           ...  ...   \n",
       "5478      3     33    68.3         41.8      7.7      8            12  ...   \n",
       "5479      0     19    20.0          8.0      4.0      2             5  ...   \n",
       "5480      0      2    27.2         18.0      4.0      2             5  ...   \n",
       "5481      0     41    25.0          NaN      NaN      7             9  ...   \n",
       "5482      1      2    21.0         15.0      NaN      1             5  ...   \n",
       "\n",
       "             Toilet             Balcony         Repair      Window View  \\\n",
       "0     1 совмещенный            1 лоджия   Дизайнерский              NaN   \n",
       "1     1 совмещенный            1 лоджия     Евроремонт         На улицу   \n",
       "2     1 совмещенный            1 лоджия     Евроремонт         На улицу   \n",
       "3     1 совмещенный            1 балкон     Евроремонт         На улицу   \n",
       "4               NaN                 NaN    Без ремонта              NaN   \n",
       "...             ...                 ...            ...              ...   \n",
       "5478   1 раздельный  1 балкон, 1 лоджия    Без ремонта          Во двор   \n",
       "5479  1 совмещенный                 NaN    Без ремонта         На улицу   \n",
       "5480  1 совмещенный                 NaN  Косметический          Во двор   \n",
       "5481  1 совмещенный            1 балкон   Дизайнерский  На улицу и двор   \n",
       "5482  1 совмещенный                 NaN   Дизайнерский         На улицу   \n",
       "\n",
       "     Ceiling           House Type House Year             Lifts   Parking  \\\n",
       "0        NaN            Кирпичный        NaN  1 пасс., 1 груз.       NaN   \n",
       "1     2,75 м            Кирпичный     2020.0               NaN       NaN   \n",
       "2        NaN            Кирпичный     2017.0           2 пасс.       NaN   \n",
       "3      2,5 м                  NaN     1973.0               NaN       NaN   \n",
       "4      2,9 м  Монолитно кирпичный     2020.0  1 пасс., 1 груз.  Наземная   \n",
       "...      ...                  ...        ...               ...       ...   \n",
       "5478   2,5 м            Панельный     1988.0              Есть       NaN   \n",
       "5479   2,8 м           Монолитный     2021.0              Есть  Наземная   \n",
       "5480     NaN            Кирпичный     2020.0               NaN  Наземная   \n",
       "5481     NaN           Монолитный     2017.0              Есть       NaN   \n",
       "5482     NaN  Монолитно кирпичный     2020.0              Есть       NaN   \n",
       "\n",
       "              Gas  \n",
       "0             NaN  \n",
       "1             NaN  \n",
       "2             NaN  \n",
       "3      Автономное  \n",
       "4             NaN  \n",
       "...           ...  \n",
       "5478  Центральное  \n",
       "5479          NaN  \n",
       "5480          NaN  \n",
       "5481          NaN  \n",
       "5482          NaN  \n",
       "\n",
       "[5483 rows x 27 columns]"
      ]
     },
     "execution_count": 59,
     "metadata": {},
     "output_type": "execute_result"
    }
   ],
   "source": [
    "pd_flats"
   ]
  },
  {
   "cell_type": "code",
   "execution_count": 60,
   "metadata": {
    "id": "4OctsashP78W",
    "outputId": "166e2ef3-9ed4-4bcb-a4e6-9539a4baaa5a"
   },
   "outputs": [
    {
     "data": {
      "text/html": [
       "<div>\n",
       "<style scoped>\n",
       "    .dataframe tbody tr th:only-of-type {\n",
       "        vertical-align: middle;\n",
       "    }\n",
       "\n",
       "    .dataframe tbody tr th {\n",
       "        vertical-align: top;\n",
       "    }\n",
       "\n",
       "    .dataframe thead th {\n",
       "        text-align: right;\n",
       "    }\n",
       "</style>\n",
       "<table border=\"1\" class=\"dataframe\">\n",
       "  <thead>\n",
       "    <tr style=\"text-align: right;\">\n",
       "      <th></th>\n",
       "      <th>Total</th>\n",
       "      <th>Percent</th>\n",
       "    </tr>\n",
       "  </thead>\n",
       "  <tbody>\n",
       "    <tr>\n",
       "      <td>District 2</td>\n",
       "      <td>5046</td>\n",
       "      <td>0.920299</td>\n",
       "    </tr>\n",
       "    <tr>\n",
       "      <td>Gas</td>\n",
       "      <td>4787</td>\n",
       "      <td>0.873062</td>\n",
       "    </tr>\n",
       "    <tr>\n",
       "      <td>Parking</td>\n",
       "      <td>4309</td>\n",
       "      <td>0.785884</td>\n",
       "    </tr>\n",
       "    <tr>\n",
       "      <td>Ceiling</td>\n",
       "      <td>3824</td>\n",
       "      <td>0.697428</td>\n",
       "    </tr>\n",
       "    <tr>\n",
       "      <td>Window View</td>\n",
       "      <td>3103</td>\n",
       "      <td>0.565931</td>\n",
       "    </tr>\n",
       "    <tr>\n",
       "      <td>House Year</td>\n",
       "      <td>2387</td>\n",
       "      <td>0.435346</td>\n",
       "    </tr>\n",
       "    <tr>\n",
       "      <td>Lifts</td>\n",
       "      <td>1894</td>\n",
       "      <td>0.345431</td>\n",
       "    </tr>\n",
       "    <tr>\n",
       "      <td>District</td>\n",
       "      <td>1821</td>\n",
       "      <td>0.332117</td>\n",
       "    </tr>\n",
       "    <tr>\n",
       "      <td>Toilet</td>\n",
       "      <td>1735</td>\n",
       "      <td>0.316433</td>\n",
       "    </tr>\n",
       "    <tr>\n",
       "      <td>Balcony</td>\n",
       "      <td>1524</td>\n",
       "      <td>0.277950</td>\n",
       "    </tr>\n",
       "    <tr>\n",
       "      <td>Kitchen</td>\n",
       "      <td>1187</td>\n",
       "      <td>0.216487</td>\n",
       "    </tr>\n",
       "    <tr>\n",
       "      <td>House Type</td>\n",
       "      <td>1092</td>\n",
       "      <td>0.199161</td>\n",
       "    </tr>\n",
       "    <tr>\n",
       "      <td>Live Square</td>\n",
       "      <td>779</td>\n",
       "      <td>0.142076</td>\n",
       "    </tr>\n",
       "    <tr>\n",
       "      <td>Repair</td>\n",
       "      <td>481</td>\n",
       "      <td>0.087726</td>\n",
       "    </tr>\n",
       "    <tr>\n",
       "      <td>Link</td>\n",
       "      <td>0</td>\n",
       "      <td>0.000000</td>\n",
       "    </tr>\n",
       "  </tbody>\n",
       "</table>\n",
       "</div>"
      ],
      "text/plain": [
       "             Total   Percent\n",
       "District 2    5046  0.920299\n",
       "Gas           4787  0.873062\n",
       "Parking       4309  0.785884\n",
       "Ceiling       3824  0.697428\n",
       "Window View   3103  0.565931\n",
       "House Year    2387  0.435346\n",
       "Lifts         1894  0.345431\n",
       "District      1821  0.332117\n",
       "Toilet        1735  0.316433\n",
       "Balcony       1524  0.277950\n",
       "Kitchen       1187  0.216487\n",
       "House Type    1092  0.199161\n",
       "Live Square    779  0.142076\n",
       "Repair         481  0.087726\n",
       "Link             0  0.000000"
      ]
     },
     "execution_count": 60,
     "metadata": {},
     "output_type": "execute_result"
    }
   ],
   "source": [
    "total = pd_flats.isnull().sum().sort_values(ascending=False)\n",
    "percent = (pd_flats.isnull().sum() / pd_flats.isnull().count()).sort_values(ascending=False)\n",
    "missing_data = pd.concat([total, percent], axis=1, keys=['Total', 'Percent'])\n",
    "missing_data.head(15)"
   ]
  },
  {
   "cell_type": "code",
   "execution_count": 61,
   "metadata": {
    "id": "IZfom98DP78X"
   },
   "outputs": [],
   "source": [
    "pd_flats = pd_flats.drop((missing_data[missing_data['Percent'] > 0.5]).index, 1)\n",
    "pd_flats = pd_flats.drop([\n",
    "    'ID', \n",
    "    'Link', \n",
    "    'Live Square', \n",
    "    'Kitchen', \n",
    "    'House Year', \n",
    "    'Description',\n",
    "    'Area',\n",
    "    'Street',\n",
    "    'Flat number',\n",
    "    'Views'\n",
    "], axis=1)"
   ]
  },
  {
   "cell_type": "code",
   "execution_count": 62,
   "metadata": {
    "id": "HWj46De7P78Y",
    "outputId": "4f336659-2da2-4874-9481-d5dabbe52b15"
   },
   "outputs": [
    {
     "data": {
      "text/html": [
       "<div>\n",
       "<style scoped>\n",
       "    .dataframe tbody tr th:only-of-type {\n",
       "        vertical-align: middle;\n",
       "    }\n",
       "\n",
       "    .dataframe tbody tr th {\n",
       "        vertical-align: top;\n",
       "    }\n",
       "\n",
       "    .dataframe thead th {\n",
       "        text-align: right;\n",
       "    }\n",
       "</style>\n",
       "<table border=\"1\" class=\"dataframe\">\n",
       "  <thead>\n",
       "    <tr style=\"text-align: right;\">\n",
       "      <th></th>\n",
       "      <th>Total</th>\n",
       "      <th>Percent</th>\n",
       "    </tr>\n",
       "  </thead>\n",
       "  <tbody>\n",
       "    <tr>\n",
       "      <td>Lifts</td>\n",
       "      <td>1894</td>\n",
       "      <td>0.345431</td>\n",
       "    </tr>\n",
       "    <tr>\n",
       "      <td>District</td>\n",
       "      <td>1821</td>\n",
       "      <td>0.332117</td>\n",
       "    </tr>\n",
       "    <tr>\n",
       "      <td>Toilet</td>\n",
       "      <td>1735</td>\n",
       "      <td>0.316433</td>\n",
       "    </tr>\n",
       "    <tr>\n",
       "      <td>Balcony</td>\n",
       "      <td>1524</td>\n",
       "      <td>0.277950</td>\n",
       "    </tr>\n",
       "    <tr>\n",
       "      <td>House Type</td>\n",
       "      <td>1092</td>\n",
       "      <td>0.199161</td>\n",
       "    </tr>\n",
       "    <tr>\n",
       "      <td>Repair</td>\n",
       "      <td>481</td>\n",
       "      <td>0.087726</td>\n",
       "    </tr>\n",
       "    <tr>\n",
       "      <td>Flat Type</td>\n",
       "      <td>0</td>\n",
       "      <td>0.000000</td>\n",
       "    </tr>\n",
       "    <tr>\n",
       "      <td>Total Floors</td>\n",
       "      <td>0</td>\n",
       "      <td>0.000000</td>\n",
       "    </tr>\n",
       "    <tr>\n",
       "      <td>Floor</td>\n",
       "      <td>0</td>\n",
       "      <td>0.000000</td>\n",
       "    </tr>\n",
       "    <tr>\n",
       "      <td>Square</td>\n",
       "      <td>0</td>\n",
       "      <td>0.000000</td>\n",
       "    </tr>\n",
       "  </tbody>\n",
       "</table>\n",
       "</div>"
      ],
      "text/plain": [
       "              Total   Percent\n",
       "Lifts          1894  0.345431\n",
       "District       1821  0.332117\n",
       "Toilet         1735  0.316433\n",
       "Balcony        1524  0.277950\n",
       "House Type     1092  0.199161\n",
       "Repair          481  0.087726\n",
       "Flat Type         0  0.000000\n",
       "Total Floors      0  0.000000\n",
       "Floor             0  0.000000\n",
       "Square            0  0.000000"
      ]
     },
     "execution_count": 62,
     "metadata": {},
     "output_type": "execute_result"
    }
   ],
   "source": [
    "total = pd_flats.isnull().sum().sort_values(ascending=False)\n",
    "percent = (pd_flats.isnull().sum() / pd_flats.isnull().count()).sort_values(ascending=False)\n",
    "missing_data = pd.concat([total, percent], axis=1, keys=['Total', 'Percent'])\n",
    "missing_data.head(10)"
   ]
  },
  {
   "cell_type": "code",
   "execution_count": 63,
   "metadata": {
    "id": "mg2JOpuXP78Z"
   },
   "outputs": [],
   "source": [
    "pd_flats['Repair'] = pd_flats['Repair'].fillna('Без ремонта')\n",
    "pd_flats['House Type'] = pd_flats['House Type'].fillna('Монолитно кирпичный')\n",
    "pd_flats['Balcony'] = pd_flats['Balcony'].fillna('1 балкон')\n",
    "pd_flats['Toilet'] = pd_flats['Toilet'].fillna('1 совмещенный')\n",
    "pd_flats['District'] = pd_flats['District'].fillna('No info')\n",
    "pd_flats['Lifts'] = pd_flats['Lifts'].fillna('Нет')"
   ]
  },
  {
   "cell_type": "code",
   "execution_count": 64,
   "metadata": {
    "id": "hsqx637gP78Z",
    "outputId": "ffbe51ac-a70b-4d46-9600-854d2f997def"
   },
   "outputs": [
    {
     "data": {
      "text/plain": [
       "0"
      ]
     },
     "execution_count": 64,
     "metadata": {},
     "output_type": "execute_result"
    }
   ],
   "source": [
    "pd_flats.isnull().sum().max()"
   ]
  },
  {
   "cell_type": "code",
   "execution_count": 65,
   "metadata": {
    "id": "gFJo_hdaP78a",
    "outputId": "27fe407d-b359-4af8-b623-7d89c54ffe83"
   },
   "outputs": [
    {
     "name": "stdout",
     "output_type": "stream",
     "text": [
      "Price int64\n",
      "Rooms int64\n",
      "Square float64\n",
      "Floor int64\n",
      "Total Floors int64\n",
      "District object\n",
      "Flat Type object\n",
      "Toilet object\n",
      "Balcony object\n",
      "Repair object\n",
      "House Type object\n",
      "Lifts object\n"
     ]
    }
   ],
   "source": [
    "print(*['{} {}'.format(feature, pd_flats[feature].dtype) for feature in pd_flats.keys()], sep='\\n')"
   ]
  },
  {
   "cell_type": "code",
   "execution_count": 66,
   "metadata": {
    "id": "6aeGwZJqP78b",
    "outputId": "50704e94-04b0-46d7-cc00-cd2320a3adee"
   },
   "outputs": [
    {
     "name": "stdout",
     "output_type": "stream",
     "text": [
      "Shape (5483, 12)\n"
     ]
    }
   ],
   "source": [
    "from sklearn.preprocessing import LabelEncoder\n",
    "\n",
    "categorical_features = ['District', 'Flat Type', 'Toilet', 'Balcony', 'Repair', 'House Type', 'Lifts']\n",
    "label_encoders = {}\n",
    "\n",
    "for categorical in categorical_features:\n",
    "    label = LabelEncoder()\n",
    "    label.fit(list(pd_flats[categorical].values))\n",
    "    label_encoders[categorical] = label\n",
    "    pd_flats[categorical] = label.transform(list(pd_flats[categorical].values))\n",
    "\n",
    "print('Shape', pd_flats.shape)"
   ]
  },
  {
   "cell_type": "code",
   "execution_count": 11,
   "metadata": {
    "id": "LZWErdWoP78d",
    "outputId": "f08eb968-f9ed-4a44-96ea-0e1b7b8d304a"
   },
   "outputs": [
    {
     "data": {
      "text/html": [
       "<div>\n",
       "<style scoped>\n",
       "    .dataframe tbody tr th:only-of-type {\n",
       "        vertical-align: middle;\n",
       "    }\n",
       "\n",
       "    .dataframe tbody tr th {\n",
       "        vertical-align: top;\n",
       "    }\n",
       "\n",
       "    .dataframe thead th {\n",
       "        text-align: right;\n",
       "    }\n",
       "</style>\n",
       "<table border=\"1\" class=\"dataframe\">\n",
       "  <thead>\n",
       "    <tr style=\"text-align: right;\">\n",
       "      <th></th>\n",
       "      <th>Price</th>\n",
       "      <th>Rooms</th>\n",
       "      <th>Square</th>\n",
       "      <th>Floor</th>\n",
       "      <th>Total Floors</th>\n",
       "      <th>District</th>\n",
       "      <th>Flat Type</th>\n",
       "      <th>Toilet</th>\n",
       "      <th>Balcony</th>\n",
       "      <th>Repair</th>\n",
       "      <th>House Type</th>\n",
       "      <th>Lifts</th>\n",
       "    </tr>\n",
       "  </thead>\n",
       "  <tbody>\n",
       "    <tr>\n",
       "      <td>0</td>\n",
       "      <td>6500000</td>\n",
       "      <td>1</td>\n",
       "      <td>64.0</td>\n",
       "      <td>12</td>\n",
       "      <td>16</td>\n",
       "      <td>45</td>\n",
       "      <td>0</td>\n",
       "      <td>1</td>\n",
       "      <td>4</td>\n",
       "      <td>1</td>\n",
       "      <td>3</td>\n",
       "      <td>0</td>\n",
       "    </tr>\n",
       "    <tr>\n",
       "      <td>1</td>\n",
       "      <td>2500000</td>\n",
       "      <td>1</td>\n",
       "      <td>33.0</td>\n",
       "      <td>3</td>\n",
       "      <td>8</td>\n",
       "      <td>35</td>\n",
       "      <td>0</td>\n",
       "      <td>1</td>\n",
       "      <td>4</td>\n",
       "      <td>2</td>\n",
       "      <td>3</td>\n",
       "      <td>33</td>\n",
       "    </tr>\n",
       "    <tr>\n",
       "      <td>2</td>\n",
       "      <td>3500000</td>\n",
       "      <td>1</td>\n",
       "      <td>41.0</td>\n",
       "      <td>16</td>\n",
       "      <td>18</td>\n",
       "      <td>21</td>\n",
       "      <td>0</td>\n",
       "      <td>1</td>\n",
       "      <td>4</td>\n",
       "      <td>2</td>\n",
       "      <td>3</td>\n",
       "      <td>12</td>\n",
       "    </tr>\n",
       "    <tr>\n",
       "      <td>3</td>\n",
       "      <td>2575000</td>\n",
       "      <td>1</td>\n",
       "      <td>30.1</td>\n",
       "      <td>5</td>\n",
       "      <td>5</td>\n",
       "      <td>45</td>\n",
       "      <td>0</td>\n",
       "      <td>1</td>\n",
       "      <td>0</td>\n",
       "      <td>2</td>\n",
       "      <td>4</td>\n",
       "      <td>33</td>\n",
       "    </tr>\n",
       "    <tr>\n",
       "      <td>4</td>\n",
       "      <td>11900000</td>\n",
       "      <td>3</td>\n",
       "      <td>118.6</td>\n",
       "      <td>10</td>\n",
       "      <td>18</td>\n",
       "      <td>0</td>\n",
       "      <td>0</td>\n",
       "      <td>1</td>\n",
       "      <td>0</td>\n",
       "      <td>0</td>\n",
       "      <td>4</td>\n",
       "      <td>0</td>\n",
       "    </tr>\n",
       "    <tr>\n",
       "      <td>5</td>\n",
       "      <td>5900000</td>\n",
       "      <td>3</td>\n",
       "      <td>80.0</td>\n",
       "      <td>3</td>\n",
       "      <td>16</td>\n",
       "      <td>20</td>\n",
       "      <td>0</td>\n",
       "      <td>0</td>\n",
       "      <td>0</td>\n",
       "      <td>3</td>\n",
       "      <td>5</td>\n",
       "      <td>33</td>\n",
       "    </tr>\n",
       "    <tr>\n",
       "      <td>6</td>\n",
       "      <td>9000000</td>\n",
       "      <td>1</td>\n",
       "      <td>62.0</td>\n",
       "      <td>20</td>\n",
       "      <td>22</td>\n",
       "      <td>47</td>\n",
       "      <td>0</td>\n",
       "      <td>1</td>\n",
       "      <td>4</td>\n",
       "      <td>0</td>\n",
       "      <td>5</td>\n",
       "      <td>0</td>\n",
       "    </tr>\n",
       "    <tr>\n",
       "      <td>7</td>\n",
       "      <td>2520000</td>\n",
       "      <td>0</td>\n",
       "      <td>21.0</td>\n",
       "      <td>8</td>\n",
       "      <td>9</td>\n",
       "      <td>37</td>\n",
       "      <td>0</td>\n",
       "      <td>1</td>\n",
       "      <td>0</td>\n",
       "      <td>1</td>\n",
       "      <td>4</td>\n",
       "      <td>0</td>\n",
       "    </tr>\n",
       "    <tr>\n",
       "      <td>8</td>\n",
       "      <td>4500000</td>\n",
       "      <td>3</td>\n",
       "      <td>62.0</td>\n",
       "      <td>8</td>\n",
       "      <td>16</td>\n",
       "      <td>39</td>\n",
       "      <td>0</td>\n",
       "      <td>1</td>\n",
       "      <td>0</td>\n",
       "      <td>2</td>\n",
       "      <td>5</td>\n",
       "      <td>27</td>\n",
       "    </tr>\n",
       "    <tr>\n",
       "      <td>9</td>\n",
       "      <td>2600000</td>\n",
       "      <td>1</td>\n",
       "      <td>45.0</td>\n",
       "      <td>3</td>\n",
       "      <td>3</td>\n",
       "      <td>0</td>\n",
       "      <td>0</td>\n",
       "      <td>0</td>\n",
       "      <td>0</td>\n",
       "      <td>3</td>\n",
       "      <td>5</td>\n",
       "      <td>33</td>\n",
       "    </tr>\n",
       "  </tbody>\n",
       "</table>\n",
       "</div>"
      ],
      "text/plain": [
       "      Price  Rooms  Square  Floor  Total Floors  District  Flat Type  Toilet  \\\n",
       "0   6500000      1    64.0     12            16        45          0       1   \n",
       "1   2500000      1    33.0      3             8        35          0       1   \n",
       "2   3500000      1    41.0     16            18        21          0       1   \n",
       "3   2575000      1    30.1      5             5        45          0       1   \n",
       "4  11900000      3   118.6     10            18         0          0       1   \n",
       "5   5900000      3    80.0      3            16        20          0       0   \n",
       "6   9000000      1    62.0     20            22        47          0       1   \n",
       "7   2520000      0    21.0      8             9        37          0       1   \n",
       "8   4500000      3    62.0      8            16        39          0       1   \n",
       "9   2600000      1    45.0      3             3         0          0       0   \n",
       "\n",
       "   Balcony  Repair  House Type  Lifts  \n",
       "0        4       1           3      0  \n",
       "1        4       2           3     33  \n",
       "2        4       2           3     12  \n",
       "3        0       2           4     33  \n",
       "4        0       0           4      0  \n",
       "5        0       3           5     33  \n",
       "6        4       0           5      0  \n",
       "7        0       1           4      0  \n",
       "8        0       2           5     27  \n",
       "9        0       3           5     33  "
      ]
     },
     "execution_count": 11,
     "metadata": {},
     "output_type": "execute_result"
    }
   ],
   "source": [
    "pd_flats.head(10)"
   ]
  },
  {
   "cell_type": "code",
   "execution_count": 12,
   "metadata": {},
   "outputs": [],
   "source": [
    "pd_flats = pd_flats.drop(pd_flats[(pd_flats['Square']>400) | (pd_flats['Price']>50000000)].index)\n",
    "pd_flats = pd_flats.drop(pd_flats[(pd_flats['Square']<50) & (pd_flats['Price']>10000000)].index)"
   ]
  },
  {
   "cell_type": "code",
   "execution_count": 13,
   "metadata": {
    "id": "xQ7HQEhSP78d"
   },
   "outputs": [],
   "source": [
    "np_flats = pd_flats.to_numpy()"
   ]
  },
  {
   "cell_type": "code",
   "execution_count": 14,
   "metadata": {
    "id": "bZNIXtD-P78e",
    "outputId": "0b6ed1aa-caca-4c17-c7e2-d066606ba183"
   },
   "outputs": [
    {
     "data": {
      "text/plain": [
       "array([[6.500e+06, 1.000e+00, 6.400e+01, 1.200e+01, 1.600e+01, 4.500e+01,\n",
       "        0.000e+00, 1.000e+00, 4.000e+00, 1.000e+00, 3.000e+00, 0.000e+00],\n",
       "       [2.500e+06, 1.000e+00, 3.300e+01, 3.000e+00, 8.000e+00, 3.500e+01,\n",
       "        0.000e+00, 1.000e+00, 4.000e+00, 2.000e+00, 3.000e+00, 3.300e+01],\n",
       "       [3.500e+06, 1.000e+00, 4.100e+01, 1.600e+01, 1.800e+01, 2.100e+01,\n",
       "        0.000e+00, 1.000e+00, 4.000e+00, 2.000e+00, 3.000e+00, 1.200e+01],\n",
       "       [2.575e+06, 1.000e+00, 3.010e+01, 5.000e+00, 5.000e+00, 4.500e+01,\n",
       "        0.000e+00, 1.000e+00, 0.000e+00, 2.000e+00, 4.000e+00, 3.300e+01],\n",
       "       [1.190e+07, 3.000e+00, 1.186e+02, 1.000e+01, 1.800e+01, 0.000e+00,\n",
       "        0.000e+00, 1.000e+00, 0.000e+00, 0.000e+00, 4.000e+00, 0.000e+00],\n",
       "       [5.900e+06, 3.000e+00, 8.000e+01, 3.000e+00, 1.600e+01, 2.000e+01,\n",
       "        0.000e+00, 0.000e+00, 0.000e+00, 3.000e+00, 5.000e+00, 3.300e+01],\n",
       "       [9.000e+06, 1.000e+00, 6.200e+01, 2.000e+01, 2.200e+01, 4.700e+01,\n",
       "        0.000e+00, 1.000e+00, 4.000e+00, 0.000e+00, 5.000e+00, 0.000e+00],\n",
       "       [2.520e+06, 0.000e+00, 2.100e+01, 8.000e+00, 9.000e+00, 3.700e+01,\n",
       "        0.000e+00, 1.000e+00, 0.000e+00, 1.000e+00, 4.000e+00, 0.000e+00],\n",
       "       [4.500e+06, 3.000e+00, 6.200e+01, 8.000e+00, 1.600e+01, 3.900e+01,\n",
       "        0.000e+00, 1.000e+00, 0.000e+00, 2.000e+00, 5.000e+00, 2.700e+01],\n",
       "       [2.600e+06, 1.000e+00, 4.500e+01, 3.000e+00, 3.000e+00, 0.000e+00,\n",
       "        0.000e+00, 0.000e+00, 0.000e+00, 3.000e+00, 5.000e+00, 3.300e+01]])"
      ]
     },
     "execution_count": 14,
     "metadata": {},
     "output_type": "execute_result"
    }
   ],
   "source": [
    "np_flats[:10]"
   ]
  },
  {
   "cell_type": "code",
   "execution_count": 15,
   "metadata": {
    "id": "t_fAvyl7P78e"
   },
   "outputs": [],
   "source": [
    "from sklearn.model_selection import train_test_split\n",
    "\n",
    "data_train, data_test = train_test_split(np_flats, test_size=0.1, random_state=123)"
   ]
  },
  {
   "cell_type": "code",
   "execution_count": 16,
   "metadata": {
    "id": "hUnloBNgP78f",
    "outputId": "97ba70c3-a12f-4da8-d0f9-75e935ded6cc"
   },
   "outputs": [
    {
     "name": "stdout",
     "output_type": "stream",
     "text": [
      "Data Train shape: (4923, 12)\n",
      "Data Test shape: (547, 12)\n"
     ]
    }
   ],
   "source": [
    "print('Data Train shape: {}\\nData Test shape: {}'.format(data_train.shape, data_test.shape))"
   ]
  },
  {
   "cell_type": "code",
   "execution_count": 17,
   "metadata": {
    "id": "_bwn2L9HP78f"
   },
   "outputs": [],
   "source": [
    "y_train, X_train = data_train[:, 0], data_train[:, 1:]\n",
    "y_test, X_test = data_test[:, 0], data_test[:, 1:]"
   ]
  },
  {
   "cell_type": "code",
   "execution_count": 18,
   "metadata": {
    "id": "buqm-pY2P78f"
   },
   "outputs": [],
   "source": [
    "mean = X_train.mean(axis=0)\n",
    "X_train -= mean\n",
    "X_test -= mean\n",
    "std = X_train.std(axis=0)\n",
    "X_train /= std\n",
    "X_test /= std"
   ]
  },
  {
   "cell_type": "code",
   "execution_count": 19,
   "metadata": {},
   "outputs": [],
   "source": [
    "X_tr, X_val, y_tr, y_val = train_test_split(X_train, y_train, test_size=0.1, random_state=123)"
   ]
  },
  {
   "cell_type": "code",
   "execution_count": 20,
   "metadata": {
    "id": "cLP_tMd7P78g"
   },
   "outputs": [],
   "source": [
    "from tensorflow.keras import models\n",
    "from tensorflow.keras import layers\n",
    "from tensorflow.keras import regularizers\n",
    "\n",
    "model = models.Sequential()\n",
    "model.add(layers.Dense(128, activation='tanh', input_shape=(X_train.shape[1],), kernel_regularizer=regularizers.l2(0.001)))\n",
    "model.add(layers.Dense(128, activation='relu', kernel_regularizer=regularizers.l1_l2(0.001, 0.001)))\n",
    "model.add(layers.Dropout(0.25))\n",
    "model.add(layers.Dense(128, activation='relu', kernel_regularizer=regularizers.l1_l2(0.001, 0.001)))\n",
    "model.add(layers.Dropout(0.25))\n",
    "model.add(layers.Dense(1))\n",
    "model.compile(optimizer='rmsprop', loss='mse', metrics=['mae'])"
   ]
  },
  {
   "cell_type": "code",
   "execution_count": 21,
   "metadata": {
    "id": "Ie1Zo-zsP78g",
    "outputId": "21195726-a0f3-448b-b332-898013384881"
   },
   "outputs": [
    {
     "name": "stdout",
     "output_type": "stream",
     "text": [
      "16/16 [==============================] - 0s 1ms/step - loss: 3712318963712.0000 - mae: 1035317.6875\n"
     ]
    }
   ],
   "source": [
    "history = model.fit(X_tr, y_tr, epochs=100, batch_size=16, verbose=0, validation_data=(X_val, y_val))\n",
    "val_mse_score, val_mae_score = model.evaluate(X_val, y_val)"
   ]
  },
  {
   "cell_type": "code",
   "execution_count": 22,
   "metadata": {},
   "outputs": [
    {
     "data": {
      "image/png": "[encoded data removed]",
      "text/plain": [
       "<Figure size 432x288 with 1 Axes>"
      ]
     },
     "metadata": {
      "needs_background": "light"
     },
     "output_type": "display_data"
    }
   ],
   "source": [
    "history_dict = history.history\n",
    "loss_values = history_dict['loss']\n",
    "val_loss_values = history_dict['val_loss']\n",
    "\n",
    "epochs = range(1, len(history_dict['mae']) + 1)\n",
    "\n",
    "plt.plot(epochs, loss_values, 'bo', label='Training loss')\n",
    "plt.plot(epochs, val_loss_values, 'b', label='Validation loss')\n",
    "plt.title('Training and validation loss')\n",
    "plt.xlabel('Epochs')\n",
    "plt.ylabel('Loss')\n",
    "plt.legend()\n",
    "\n",
    "plt.show()"
   ]
  },
  {
   "cell_type": "code",
   "execution_count": 23,
   "metadata": {
    "id": "ezKinbA2P78g",
    "outputId": "f49099cd-ddb6-4787-ccd9-cfd6faeeeb47"
   },
   "outputs": [
    {
     "data": {
      "text/plain": [
       "1035317.6875"
      ]
     },
     "execution_count": 23,
     "metadata": {},
     "output_type": "execute_result"
    }
   ],
   "source": [
    "val_mae_score"
   ]
  },
  {
   "cell_type": "code",
   "execution_count": 24,
   "metadata": {},
   "outputs": [
    {
     "name": "stdout",
     "output_type": "stream",
     "text": [
      "18/18 [==============================] - 0s 1ms/step - loss: 3841313996800.0000 - mae: 1089498.3750\n"
     ]
    }
   ],
   "source": [
    "history = model.fit(X_train, y_train, epochs=100, batch_size=16, verbose=0)\n",
    "test_mse_score, test_mae_score = model.evaluate(X_test, y_test)"
   ]
  },
  {
   "cell_type": "code",
   "execution_count": 25,
   "metadata": {
    "id": "NEjIKq0EP78h"
   },
   "outputs": [],
   "source": [
    "y_pred = model.predict(X_test)"
   ]
  },
  {
   "cell_type": "code",
   "execution_count": 26,
   "metadata": {},
   "outputs": [
    {
     "data": {
      "text/plain": [
       "(547, 1)"
      ]
     },
     "execution_count": 26,
     "metadata": {},
     "output_type": "execute_result"
    }
   ],
   "source": [
    "y_pred.shape"
   ]
  },
  {
   "cell_type": "code",
   "execution_count": 41,
   "metadata": {},
   "outputs": [],
   "source": [
    "counter = 0\n",
    "error_percents = []\n",
    "for y_pr, y_real in zip(y_pred, y_test):\n",
    "    y_pr = y_pr[0]\n",
    "    e = y_pr - y_real\n",
    "    err_percent = 100 * e / y_real\n",
    "    error_percents.append(abs(err_percent))\n",
    "\n",
    "error_percents = np.array(error_percents)"
   ]
  },
  {
   "cell_type": "code",
   "execution_count": 42,
   "metadata": {},
   "outputs": [
    {
     "data": {
      "text/plain": [
       "Text(0.5, 0, 'Data')"
      ]
     },
     "execution_count": 42,
     "metadata": {},
     "output_type": "execute_result"
    },
    {
     "data": {
      "image/png": "[encoded data removed]",
      "text/plain": [
       "<Figure size 432x288 with 1 Axes>"
      ]
     },
     "metadata": {
      "needs_background": "light"
     },
     "output_type": "display_data"
    }
   ],
   "source": [
    "plt.hist(error_percents, bins=20)\n",
    "plt.ylabel('Error percent')\n",
    "plt.xlabel('Data')"
   ]
  },
  {
   "cell_type": "code",
   "execution_count": 43,
   "metadata": {},
   "outputs": [
    {
     "data": {
      "text/html": [
       "<div>\n",
       "<style scoped>\n",
       "    .dataframe tbody tr th:only-of-type {\n",
       "        vertical-align: middle;\n",
       "    }\n",
       "\n",
       "    .dataframe tbody tr th {\n",
       "        vertical-align: top;\n",
       "    }\n",
       "\n",
       "    .dataframe thead th {\n",
       "        text-align: right;\n",
       "    }\n",
       "</style>\n",
       "<table border=\"1\" class=\"dataframe\">\n",
       "  <thead>\n",
       "    <tr style=\"text-align: right;\">\n",
       "      <th></th>\n",
       "      <th>0</th>\n",
       "    </tr>\n",
       "  </thead>\n",
       "  <tbody>\n",
       "    <tr>\n",
       "      <td>count</td>\n",
       "      <td>547.000000</td>\n",
       "    </tr>\n",
       "    <tr>\n",
       "      <td>mean</td>\n",
       "      <td>21.634098</td>\n",
       "    </tr>\n",
       "    <tr>\n",
       "      <td>std</td>\n",
       "      <td>20.483007</td>\n",
       "    </tr>\n",
       "    <tr>\n",
       "      <td>min</td>\n",
       "      <td>0.019688</td>\n",
       "    </tr>\n",
       "    <tr>\n",
       "      <td>25%</td>\n",
       "      <td>7.565361</td>\n",
       "    </tr>\n",
       "    <tr>\n",
       "      <td>50%</td>\n",
       "      <td>15.993728</td>\n",
       "    </tr>\n",
       "    <tr>\n",
       "      <td>75%</td>\n",
       "      <td>29.440632</td>\n",
       "    </tr>\n",
       "    <tr>\n",
       "      <td>max</td>\n",
       "      <td>131.703235</td>\n",
       "    </tr>\n",
       "  </tbody>\n",
       "</table>\n",
       "</div>"
      ],
      "text/plain": [
       "                0\n",
       "count  547.000000\n",
       "mean    21.634098\n",
       "std     20.483007\n",
       "min      0.019688\n",
       "25%      7.565361\n",
       "50%     15.993728\n",
       "75%     29.440632\n",
       "max    131.703235"
      ]
     },
     "execution_count": 43,
     "metadata": {},
     "output_type": "execute_result"
    }
   ],
   "source": [
    "err_pd = pd.DataFrame(error_percents)\n",
    "err_pd.describe()"
   ]
  },
  {
   "cell_type": "code",
   "execution_count": null,
   "metadata": {},
   "outputs": [],
   "source": []
  },
  {
   "cell_type": "code",
   "execution_count": 45,
   "metadata": {},
   "outputs": [
    {
     "data": {
      "text/plain": [
       "Index(['Price', 'Rooms', 'Square', 'Floor', 'Total Floors', 'District',\n",
       "       'Flat Type', 'Toilet', 'Balcony', 'Repair', 'House Type', 'Lifts'],\n",
       "      dtype='object')"
      ]
     },
     "execution_count": 45,
     "metadata": {},
     "output_type": "execute_result"
    }
   ],
   "source": [
    "pd_flats.keys()"
   ]
  },
  {
   "cell_type": "code",
   "execution_count": 102,
   "metadata": {},
   "outputs": [],
   "source": [
    "def flat_input():\n",
    "    row = []\n",
    "    for key in pd_flats.keys()[1:]:\n",
    "        element = input('{}: '.format(key))\n",
    "        if key in ('Rooms', 'Square', 'Floor', 'Total Floors'):\n",
    "            element = float(element)\n",
    "        else:\n",
    "            # print(label_encoders[key].classes_)\n",
    "            element = label_encoders[key].transform([element])[0]\n",
    "        row.append(element)\n",
    "        \n",
    "    return row"
   ]
  },
  {
   "cell_type": "code",
   "execution_count": 121,
   "metadata": {},
   "outputs": [
    {
     "name": "stdout",
     "output_type": "stream",
     "text": [
      "Rooms: 3\n",
      "Square: 81.4\n",
      "Floor: 3\n",
      "Total Floors: 12\n",
      "District: мкр. Московский\n",
      "Flat Type: Вторичка\n",
      "Toilet: 1 раздельный\n",
      "Balcony: 3 балкона, 3 лоджии\n",
      "Repair: Косметический\n",
      "House Type: Панельный\n",
      "Lifts: 1 пасс., 1 груз.\n"
     ]
    }
   ],
   "source": [
    "flat_example = flat_input()"
   ]
  },
  {
   "cell_type": "code",
   "execution_count": 122,
   "metadata": {},
   "outputs": [
    {
     "data": {
      "text/plain": [
       "[3.0, 81.4, 3.0, 12.0, 33, 0, 0, 10, 3, 6, 0]"
      ]
     },
     "execution_count": 122,
     "metadata": {},
     "output_type": "execute_result"
    }
   ],
   "source": [
    "flat_example"
   ]
  },
  {
   "cell_type": "code",
   "execution_count": 123,
   "metadata": {},
   "outputs": [],
   "source": [
    "flat_ex_n = np.array([flat_example, ])"
   ]
  },
  {
   "cell_type": "code",
   "execution_count": 124,
   "metadata": {},
   "outputs": [
    {
     "name": "stdout",
     "output_type": "stream",
     "text": [
      "[[ 0.92243112  0.40713869 -0.85961839 -0.27636953  0.50083245 -0.09780954\n",
      "  -0.75900792  3.12821264  1.513829    1.7284445  -1.42410897]]\n"
     ]
    }
   ],
   "source": [
    "flat_ex_n -= mean\n",
    "flat_ex_n /= std\n",
    "print(flat_ex_n)\n"
   ]
  },
  {
   "cell_type": "code",
   "execution_count": 125,
   "metadata": {},
   "outputs": [
    {
     "data": {
      "text/plain": [
       "5546166.0"
      ]
     },
     "execution_count": 125,
     "metadata": {},
     "output_type": "execute_result"
    }
   ],
   "source": [
    "model.predict(flat_ex_n)[0][0]"
   ]
  },
  {
   "cell_type": "code",
   "execution_count": null,
   "metadata": {},
   "outputs": [],
   "source": []
  },
  {
   "cell_type": "code",
   "execution_count": null,
   "metadata": {},
   "outputs": [],
   "source": []
  },
  {
   "cell_type": "code",
   "execution_count": 77,
   "metadata": {},
   "outputs": [
    {
     "name": "stdout",
     "output_type": "stream",
     "text": [
      "['Вторичка' 'Вторичка Апартаменты' 'Вторичка Пентхаус' 'Новостройка']\n",
      "[0]\n"
     ]
    }
   ],
   "source": [
    "print(label_encoders['Flat Type'].classes_)\n",
    "print(label_encoders['Flat Type'].transform(['Вторичка', ]))"
   ]
  },
  {
   "cell_type": "code",
   "execution_count": 48,
   "metadata": {},
   "outputs": [
    {
     "data": {
      "text/plain": [
       "0       0\n",
       "1       0\n",
       "2       0\n",
       "3       0\n",
       "4       0\n",
       "       ..\n",
       "5478    0\n",
       "5479    0\n",
       "5480    0\n",
       "5481    0\n",
       "5482    0\n",
       "Name: Flat Type, Length: 5470, dtype: int64"
      ]
     },
     "execution_count": 48,
     "metadata": {},
     "output_type": "execute_result"
    }
   ],
   "source": [
    "pd_flats['Flat Type']"
   ]
  },
  {
   "cell_type": "code",
   "execution_count": 85,
   "metadata": {},
   "outputs": [
    {
     "data": {
      "text/plain": [
       "array([-0.76917938, -0.6688231 , -0.30075481,  0.48397874, -1.23509679,\n",
       "       -0.09780954, -0.10984253, -0.80904533, -0.92298196,  0.83359412,\n",
       "        0.94815019])"
      ]
     },
     "execution_count": 85,
     "metadata": {},
     "output_type": "execute_result"
    }
   ],
   "source": [
    "X_test[0]"
   ]
  },
  {
   "cell_type": "code",
   "execution_count": 91,
   "metadata": {},
   "outputs": [
    {
     "data": {
      "text/plain": [
       "array([[2769385.8]], dtype=float32)"
      ]
     },
     "execution_count": 91,
     "metadata": {},
     "output_type": "execute_result"
    }
   ],
   "source": [
    "model.predict(np.array([X_test[0], ]))"
   ]
  },
  {
   "cell_type": "code",
   "execution_count": null,
   "metadata": {},
   "outputs": [],
   "source": []
  }
 ],
 "metadata": {
  "colab": {
   "collapsed_sections": [],
   "name": "price_regressor.ipynb",
   "provenance": []
  },
  "kernelspec": {
   "display_name": "Python 3",
   "language": "python",
   "name": "python3"
  },
  "language_info": {
   "codemirror_mode": {
    "name": "ipython",
    "version": 3
   },
   "file_extension": ".py",
   "mimetype": "text/x-python",
   "name": "python",
   "nbconvert_exporter": "python",
   "pygments_lexer": "ipython3",
   "version": "3.7.4"
  }
 },
 "nbformat": 4,
 "nbformat_minor": 1
}
